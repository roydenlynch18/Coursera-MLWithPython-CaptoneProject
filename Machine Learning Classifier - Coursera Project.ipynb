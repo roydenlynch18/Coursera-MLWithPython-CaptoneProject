{
    "nbformat_minor": 2, 
    "cells": [
        {
            "source": "<a href=\"https://www.bigdatauniversity.com\"><img src=\"https://ibm.box.com/shared/static/cw2c7r3o20w9zn8gkecaeyjhgw3xdgbj.png\" width=\"400\" align=\"center\"></a>\n\n<h1 align=\"center\"><font size=\"5\">Classification with Python</font></h1>", 
            "cell_type": "markdown", 
            "metadata": {
                "button": false, 
                "new_sheet": false, 
                "run_control": {
                    "read_only": false
                }
            }
        }, 
        {
            "source": "In this notebook we try to practice all the classification algorithms that we learned in this course.\n\nWe load a dataset using Pandas library, and apply the following algorithms, and find the best one for this specific dataset by accuracy evaluation methods.\n\nLets first load required libraries:", 
            "cell_type": "markdown", 
            "metadata": {
                "button": false, 
                "new_sheet": false, 
                "run_control": {
                    "read_only": false
                }
            }
        }, 
        {
            "execution_count": 1, 
            "cell_type": "code", 
            "metadata": {
                "button": false, 
                "new_sheet": false, 
                "run_control": {
                    "read_only": false
                }
            }, 
            "outputs": [], 
            "source": "# Import Required Libraries\nimport itertools\nimport matplotlib.pyplot as plt     # Data Visualization\nimport matplotlib.ticker as ticker  # Ticker\nimport numpy             as np      # Array Handling\nimport pandas            as pd      # Data Handling\nfrom matplotlib.ticker import NullFormatter  # NullFormatter\nfrom sklearn           import preprocessing  # Data Preprocessing/Cleaning\n%matplotlib inline"
        }, 
        {
            "source": "## 1. Data Preprocessing", 
            "cell_type": "markdown", 
            "metadata": {
                "button": false, 
                "new_sheet": false, 
                "run_control": {
                    "read_only": false
                }
            }
        }, 
        {
            "source": "#### Given Information on Data Structure", 
            "cell_type": "markdown", 
            "metadata": {}
        }, 
        {
            "source": "This dataset is about past loans. The __Loan_train.csv__ data set includes details of 346 customers whose loan are already paid off or defaulted. It includes following fields:\n\n| Field          | Description                                                                           |\n|----------------|---------------------------------------------------------------------------------------|\n| Loan_status    | Whether a loan is paid off on in collection                                           |\n| Principal      | Basic principal loan amount at the                                                    |\n| Terms          | Origination terms which can be weekly (7 days), biweekly, and monthly payoff schedule |\n| Effective_date | When the loan got originated and took effects                                         |\n| Due_date       | Since it\u2019s one-time payoff schedule, each loan has one single due date                |\n| Age            | Age of applicant                                                                      |\n| Education      | Education of applicant                                                                |\n| Gender         | The gender of applicant                                                               |", 
            "cell_type": "markdown", 
            "metadata": {
                "button": false, 
                "new_sheet": false, 
                "run_control": {
                    "read_only": false
                }
            }
        }, 
        {
            "source": "#### Download the Dataset", 
            "cell_type": "markdown", 
            "metadata": {
                "button": false, 
                "new_sheet": false, 
                "run_control": {
                    "read_only": false
                }
            }
        }, 
        {
            "execution_count": 2, 
            "cell_type": "code", 
            "metadata": {
                "button": false, 
                "new_sheet": false, 
                "run_control": {
                    "read_only": false
                }
            }, 
            "outputs": [
                {
                    "output_type": "stream", 
                    "name": "stdout", 
                    "text": "--2019-04-16 20:09:56--  https://s3-api.us-geo.objectstorage.softlayer.net/cf-courses-data/CognitiveClass/ML0101ENv3/labs/loan_train.csv\nResolving s3-api.us-geo.objectstorage.softlayer.net (s3-api.us-geo.objectstorage.softlayer.net)... 67.228.254.193\nConnecting to s3-api.us-geo.objectstorage.softlayer.net (s3-api.us-geo.objectstorage.softlayer.net)|67.228.254.193|:443... connected.\nHTTP request sent, awaiting response... 200 OK\nLength: 23101 (23K) [text/csv]\nSaving to: \u2018loan_train.csv\u2019\n\n100%[======================================>] 23,101      --.-K/s   in 0.002s  \n\n2019-04-16 20:09:56 (13.5 MB/s) - \u2018loan_train.csv\u2019 saved [23101/23101]\n\n"
                }
            ], 
            "source": "# Download Dataset\n!wget -O loan_train.csv https://s3-api.us-geo.objectstorage.softlayer.net/cf-courses-data/CognitiveClass/ML0101ENv3/labs/loan_train.csv"
        }, 
        {
            "source": "#### Load the Dataset and Preview It", 
            "cell_type": "markdown", 
            "metadata": {
                "button": false, 
                "new_sheet": false, 
                "run_control": {
                    "read_only": false
                }
            }
        }, 
        {
            "execution_count": 3, 
            "cell_type": "code", 
            "metadata": {
                "button": false, 
                "new_sheet": false, 
                "run_control": {
                    "read_only": false
                }
            }, 
            "outputs": [], 
            "source": "# Load Dataset\ndf = pd.read_csv(\"loan_train.csv\")"
        }, 
        {
            "execution_count": 4, 
            "cell_type": "code", 
            "metadata": {}, 
            "outputs": [
                {
                    "execution_count": 4, 
                    "metadata": {}, 
                    "data": {
                        "text/plain": "(346, 10)"
                    }, 
                    "output_type": "execute_result"
                }
            ], 
            "source": "# Shape of Data\ndf.shape"
        }, 
        {
            "execution_count": 5, 
            "cell_type": "code", 
            "metadata": {}, 
            "outputs": [
                {
                    "execution_count": 5, 
                    "metadata": {}, 
                    "data": {
                        "text/html": "<div>\n<style scoped>\n    .dataframe tbody tr th:only-of-type {\n        vertical-align: middle;\n    }\n\n    .dataframe tbody tr th {\n        vertical-align: top;\n    }\n\n    .dataframe thead th {\n        text-align: right;\n    }\n</style>\n<table border=\"1\" class=\"dataframe\">\n  <thead>\n    <tr style=\"text-align: right;\">\n      <th></th>\n      <th>Unnamed: 0</th>\n      <th>Unnamed: 0.1</th>\n      <th>loan_status</th>\n      <th>Principal</th>\n      <th>terms</th>\n      <th>effective_date</th>\n      <th>due_date</th>\n      <th>age</th>\n      <th>education</th>\n      <th>Gender</th>\n    </tr>\n  </thead>\n  <tbody>\n    <tr>\n      <th>0</th>\n      <td>0</td>\n      <td>0</td>\n      <td>PAIDOFF</td>\n      <td>1000</td>\n      <td>30</td>\n      <td>9/8/2016</td>\n      <td>10/7/2016</td>\n      <td>45</td>\n      <td>High School or Below</td>\n      <td>male</td>\n    </tr>\n    <tr>\n      <th>1</th>\n      <td>2</td>\n      <td>2</td>\n      <td>PAIDOFF</td>\n      <td>1000</td>\n      <td>30</td>\n      <td>9/8/2016</td>\n      <td>10/7/2016</td>\n      <td>33</td>\n      <td>Bechalor</td>\n      <td>female</td>\n    </tr>\n    <tr>\n      <th>2</th>\n      <td>3</td>\n      <td>3</td>\n      <td>PAIDOFF</td>\n      <td>1000</td>\n      <td>15</td>\n      <td>9/8/2016</td>\n      <td>9/22/2016</td>\n      <td>27</td>\n      <td>college</td>\n      <td>male</td>\n    </tr>\n    <tr>\n      <th>3</th>\n      <td>4</td>\n      <td>4</td>\n      <td>PAIDOFF</td>\n      <td>1000</td>\n      <td>30</td>\n      <td>9/9/2016</td>\n      <td>10/8/2016</td>\n      <td>28</td>\n      <td>college</td>\n      <td>female</td>\n    </tr>\n    <tr>\n      <th>4</th>\n      <td>6</td>\n      <td>6</td>\n      <td>PAIDOFF</td>\n      <td>1000</td>\n      <td>30</td>\n      <td>9/9/2016</td>\n      <td>10/8/2016</td>\n      <td>29</td>\n      <td>college</td>\n      <td>male</td>\n    </tr>\n  </tbody>\n</table>\n</div>", 
                        "text/plain": "   Unnamed: 0  Unnamed: 0.1 loan_status  Principal  terms effective_date  \\\n0           0             0     PAIDOFF       1000     30       9/8/2016   \n1           2             2     PAIDOFF       1000     30       9/8/2016   \n2           3             3     PAIDOFF       1000     15       9/8/2016   \n3           4             4     PAIDOFF       1000     30       9/9/2016   \n4           6             6     PAIDOFF       1000     30       9/9/2016   \n\n    due_date  age             education  Gender  \n0  10/7/2016   45  High School or Below    male  \n1  10/7/2016   33              Bechalor  female  \n2  9/22/2016   27               college    male  \n3  10/8/2016   28               college  female  \n4  10/8/2016   29               college    male  "
                    }, 
                    "output_type": "execute_result"
                }
            ], 
            "source": "# Preview of Data\ndf.head()"
        }, 
        {
            "source": "#### Preliminary Data Cleaning", 
            "cell_type": "markdown", 
            "metadata": {}
        }, 
        {
            "execution_count": 6, 
            "cell_type": "code", 
            "metadata": {}, 
            "outputs": [
                {
                    "execution_count": 6, 
                    "metadata": {}, 
                    "data": {
                        "text/html": "<div>\n<style scoped>\n    .dataframe tbody tr th:only-of-type {\n        vertical-align: middle;\n    }\n\n    .dataframe tbody tr th {\n        vertical-align: top;\n    }\n\n    .dataframe thead th {\n        text-align: right;\n    }\n</style>\n<table border=\"1\" class=\"dataframe\">\n  <thead>\n    <tr style=\"text-align: right;\">\n      <th></th>\n      <th>unnamed_0</th>\n      <th>unnamed_1</th>\n      <th>loan_status</th>\n      <th>principal</th>\n      <th>terms</th>\n      <th>effective_date</th>\n      <th>due_date</th>\n      <th>age</th>\n      <th>education</th>\n      <th>gender</th>\n    </tr>\n  </thead>\n  <tbody>\n    <tr>\n      <th>0</th>\n      <td>0</td>\n      <td>0</td>\n      <td>PAIDOFF</td>\n      <td>1000</td>\n      <td>30</td>\n      <td>9/8/2016</td>\n      <td>10/7/2016</td>\n      <td>45</td>\n      <td>High School or Below</td>\n      <td>male</td>\n    </tr>\n    <tr>\n      <th>1</th>\n      <td>2</td>\n      <td>2</td>\n      <td>PAIDOFF</td>\n      <td>1000</td>\n      <td>30</td>\n      <td>9/8/2016</td>\n      <td>10/7/2016</td>\n      <td>33</td>\n      <td>Bechalor</td>\n      <td>female</td>\n    </tr>\n    <tr>\n      <th>2</th>\n      <td>3</td>\n      <td>3</td>\n      <td>PAIDOFF</td>\n      <td>1000</td>\n      <td>15</td>\n      <td>9/8/2016</td>\n      <td>9/22/2016</td>\n      <td>27</td>\n      <td>college</td>\n      <td>male</td>\n    </tr>\n    <tr>\n      <th>3</th>\n      <td>4</td>\n      <td>4</td>\n      <td>PAIDOFF</td>\n      <td>1000</td>\n      <td>30</td>\n      <td>9/9/2016</td>\n      <td>10/8/2016</td>\n      <td>28</td>\n      <td>college</td>\n      <td>female</td>\n    </tr>\n    <tr>\n      <th>4</th>\n      <td>6</td>\n      <td>6</td>\n      <td>PAIDOFF</td>\n      <td>1000</td>\n      <td>30</td>\n      <td>9/9/2016</td>\n      <td>10/8/2016</td>\n      <td>29</td>\n      <td>college</td>\n      <td>male</td>\n    </tr>\n  </tbody>\n</table>\n</div>", 
                        "text/plain": "   unnamed_0  unnamed_1 loan_status  principal  terms effective_date  \\\n0          0          0     PAIDOFF       1000     30       9/8/2016   \n1          2          2     PAIDOFF       1000     30       9/8/2016   \n2          3          3     PAIDOFF       1000     15       9/8/2016   \n3          4          4     PAIDOFF       1000     30       9/9/2016   \n4          6          6     PAIDOFF       1000     30       9/9/2016   \n\n    due_date  age             education  gender  \n0  10/7/2016   45  High School or Below    male  \n1  10/7/2016   33              Bechalor  female  \n2  9/22/2016   27               college    male  \n3  10/8/2016   28               college  female  \n4  10/8/2016   29               college    male  "
                    }, 
                    "output_type": "execute_result"
                }
            ], 
            "source": "# Standardize Column Names\ndf.rename(columns={\"Unnamed: 0\":\"unnamed_0\",\n                   \"Unnamed: 0.1\":\"unnamed_1\",\n                   \"Principal\":\"principal\",\n                   \"Gender\":\"gender\"}, inplace=True)\ndf.head()"
        }, 
        {
            "execution_count": 7, 
            "cell_type": "code", 
            "metadata": {}, 
            "outputs": [
                {
                    "execution_count": 7, 
                    "metadata": {}, 
                    "data": {
                        "text/html": "<div>\n<style scoped>\n    .dataframe tbody tr th:only-of-type {\n        vertical-align: middle;\n    }\n\n    .dataframe tbody tr th {\n        vertical-align: top;\n    }\n\n    .dataframe thead th {\n        text-align: right;\n    }\n</style>\n<table border=\"1\" class=\"dataframe\">\n  <thead>\n    <tr style=\"text-align: right;\">\n      <th></th>\n      <th>unnamed_0</th>\n      <th>unnamed_1</th>\n      <th>loan_status</th>\n      <th>principal</th>\n      <th>terms</th>\n      <th>effective_date</th>\n      <th>due_date</th>\n      <th>age</th>\n      <th>education</th>\n      <th>gender</th>\n    </tr>\n  </thead>\n  <tbody>\n    <tr>\n      <th>0</th>\n      <td>0</td>\n      <td>0</td>\n      <td>PAIDOFF</td>\n      <td>1000</td>\n      <td>30</td>\n      <td>2016-09-08</td>\n      <td>2016-10-07</td>\n      <td>45</td>\n      <td>High School or Below</td>\n      <td>male</td>\n    </tr>\n    <tr>\n      <th>1</th>\n      <td>2</td>\n      <td>2</td>\n      <td>PAIDOFF</td>\n      <td>1000</td>\n      <td>30</td>\n      <td>2016-09-08</td>\n      <td>2016-10-07</td>\n      <td>33</td>\n      <td>Bechalor</td>\n      <td>female</td>\n    </tr>\n    <tr>\n      <th>2</th>\n      <td>3</td>\n      <td>3</td>\n      <td>PAIDOFF</td>\n      <td>1000</td>\n      <td>15</td>\n      <td>2016-09-08</td>\n      <td>2016-09-22</td>\n      <td>27</td>\n      <td>college</td>\n      <td>male</td>\n    </tr>\n    <tr>\n      <th>3</th>\n      <td>4</td>\n      <td>4</td>\n      <td>PAIDOFF</td>\n      <td>1000</td>\n      <td>30</td>\n      <td>2016-09-09</td>\n      <td>2016-10-08</td>\n      <td>28</td>\n      <td>college</td>\n      <td>female</td>\n    </tr>\n    <tr>\n      <th>4</th>\n      <td>6</td>\n      <td>6</td>\n      <td>PAIDOFF</td>\n      <td>1000</td>\n      <td>30</td>\n      <td>2016-09-09</td>\n      <td>2016-10-08</td>\n      <td>29</td>\n      <td>college</td>\n      <td>male</td>\n    </tr>\n  </tbody>\n</table>\n</div>", 
                        "text/plain": "   unnamed_0  unnamed_1 loan_status  principal  terms effective_date  \\\n0          0          0     PAIDOFF       1000     30     2016-09-08   \n1          2          2     PAIDOFF       1000     30     2016-09-08   \n2          3          3     PAIDOFF       1000     15     2016-09-08   \n3          4          4     PAIDOFF       1000     30     2016-09-09   \n4          6          6     PAIDOFF       1000     30     2016-09-09   \n\n    due_date  age             education  gender  \n0 2016-10-07   45  High School or Below    male  \n1 2016-10-07   33              Bechalor  female  \n2 2016-09-22   27               college    male  \n3 2016-10-08   28               college  female  \n4 2016-10-08   29               college    male  "
                    }, 
                    "output_type": "execute_result"
                }
            ], 
            "source": "# Convert Dates to Datetime Objects\ndf[\"due_date\"] = pd.to_datetime(df[\"due_date\"])\ndf[\"effective_date\"] = pd.to_datetime(df[\"effective_date\"])\ndf.head()"
        }, 
        {
            "execution_count": 8, 
            "cell_type": "code", 
            "metadata": {}, 
            "outputs": [
                {
                    "execution_count": 8, 
                    "metadata": {}, 
                    "data": {
                        "text/html": "<div>\n<style scoped>\n    .dataframe tbody tr th:only-of-type {\n        vertical-align: middle;\n    }\n\n    .dataframe tbody tr th {\n        vertical-align: top;\n    }\n\n    .dataframe thead th {\n        text-align: right;\n    }\n</style>\n<table border=\"1\" class=\"dataframe\">\n  <thead>\n    <tr style=\"text-align: right;\">\n      <th></th>\n      <th>unnamed_0</th>\n      <th>unnamed_1</th>\n      <th>loan_status</th>\n      <th>principal</th>\n      <th>terms</th>\n      <th>effective_date</th>\n      <th>due_date</th>\n      <th>age</th>\n      <th>education</th>\n      <th>gender</th>\n    </tr>\n  </thead>\n  <tbody>\n    <tr>\n      <th>0</th>\n      <td>0</td>\n      <td>0</td>\n      <td>PAIDOFF</td>\n      <td>1000</td>\n      <td>30</td>\n      <td>2016-09-08</td>\n      <td>2016-10-07</td>\n      <td>45</td>\n      <td>High School or Below</td>\n      <td>0</td>\n    </tr>\n    <tr>\n      <th>1</th>\n      <td>2</td>\n      <td>2</td>\n      <td>PAIDOFF</td>\n      <td>1000</td>\n      <td>30</td>\n      <td>2016-09-08</td>\n      <td>2016-10-07</td>\n      <td>33</td>\n      <td>Bechalor</td>\n      <td>1</td>\n    </tr>\n    <tr>\n      <th>2</th>\n      <td>3</td>\n      <td>3</td>\n      <td>PAIDOFF</td>\n      <td>1000</td>\n      <td>15</td>\n      <td>2016-09-08</td>\n      <td>2016-09-22</td>\n      <td>27</td>\n      <td>college</td>\n      <td>0</td>\n    </tr>\n    <tr>\n      <th>3</th>\n      <td>4</td>\n      <td>4</td>\n      <td>PAIDOFF</td>\n      <td>1000</td>\n      <td>30</td>\n      <td>2016-09-09</td>\n      <td>2016-10-08</td>\n      <td>28</td>\n      <td>college</td>\n      <td>1</td>\n    </tr>\n    <tr>\n      <th>4</th>\n      <td>6</td>\n      <td>6</td>\n      <td>PAIDOFF</td>\n      <td>1000</td>\n      <td>30</td>\n      <td>2016-09-09</td>\n      <td>2016-10-08</td>\n      <td>29</td>\n      <td>college</td>\n      <td>0</td>\n    </tr>\n  </tbody>\n</table>\n</div>", 
                        "text/plain": "   unnamed_0  unnamed_1 loan_status  principal  terms effective_date  \\\n0          0          0     PAIDOFF       1000     30     2016-09-08   \n1          2          2     PAIDOFF       1000     30     2016-09-08   \n2          3          3     PAIDOFF       1000     15     2016-09-08   \n3          4          4     PAIDOFF       1000     30     2016-09-09   \n4          6          6     PAIDOFF       1000     30     2016-09-09   \n\n    due_date  age             education  gender  \n0 2016-10-07   45  High School or Below       0  \n1 2016-10-07   33              Bechalor       1  \n2 2016-09-22   27               college       0  \n3 2016-10-08   28               college       1  \n4 2016-10-08   29               college       0  "
                    }, 
                    "output_type": "execute_result"
                }
            ], 
            "source": "# Convert \"gender\" Categorical Feature to be Numeric\ndf[\"gender\"].replace(to_replace=[\"male\",\"female\"], value=[0,1], inplace=True)\ndf.head()"
        }, 
        {
            "execution_count": 9, 
            "cell_type": "code", 
            "metadata": {}, 
            "outputs": [
                {
                    "execution_count": 9, 
                    "metadata": {}, 
                    "data": {
                        "text/html": "<div>\n<style scoped>\n    .dataframe tbody tr th:only-of-type {\n        vertical-align: middle;\n    }\n\n    .dataframe tbody tr th {\n        vertical-align: top;\n    }\n\n    .dataframe thead th {\n        text-align: right;\n    }\n</style>\n<table border=\"1\" class=\"dataframe\">\n  <thead>\n    <tr style=\"text-align: right;\">\n      <th></th>\n      <th>unnamed_0</th>\n      <th>unnamed_1</th>\n      <th>loan_status</th>\n      <th>principal</th>\n      <th>terms</th>\n      <th>effective_date</th>\n      <th>due_date</th>\n      <th>age</th>\n      <th>education</th>\n      <th>gender</th>\n      <th>Bechalor</th>\n      <th>High School or Below</th>\n      <th>Master or Above</th>\n      <th>college</th>\n    </tr>\n  </thead>\n  <tbody>\n    <tr>\n      <th>0</th>\n      <td>0</td>\n      <td>0</td>\n      <td>PAIDOFF</td>\n      <td>1000</td>\n      <td>30</td>\n      <td>2016-09-08</td>\n      <td>2016-10-07</td>\n      <td>45</td>\n      <td>High School or Below</td>\n      <td>0</td>\n      <td>0</td>\n      <td>1</td>\n      <td>0</td>\n      <td>0</td>\n    </tr>\n    <tr>\n      <th>1</th>\n      <td>2</td>\n      <td>2</td>\n      <td>PAIDOFF</td>\n      <td>1000</td>\n      <td>30</td>\n      <td>2016-09-08</td>\n      <td>2016-10-07</td>\n      <td>33</td>\n      <td>Bechalor</td>\n      <td>1</td>\n      <td>1</td>\n      <td>0</td>\n      <td>0</td>\n      <td>0</td>\n    </tr>\n    <tr>\n      <th>2</th>\n      <td>3</td>\n      <td>3</td>\n      <td>PAIDOFF</td>\n      <td>1000</td>\n      <td>15</td>\n      <td>2016-09-08</td>\n      <td>2016-09-22</td>\n      <td>27</td>\n      <td>college</td>\n      <td>0</td>\n      <td>0</td>\n      <td>0</td>\n      <td>0</td>\n      <td>1</td>\n    </tr>\n    <tr>\n      <th>3</th>\n      <td>4</td>\n      <td>4</td>\n      <td>PAIDOFF</td>\n      <td>1000</td>\n      <td>30</td>\n      <td>2016-09-09</td>\n      <td>2016-10-08</td>\n      <td>28</td>\n      <td>college</td>\n      <td>1</td>\n      <td>0</td>\n      <td>0</td>\n      <td>0</td>\n      <td>1</td>\n    </tr>\n    <tr>\n      <th>4</th>\n      <td>6</td>\n      <td>6</td>\n      <td>PAIDOFF</td>\n      <td>1000</td>\n      <td>30</td>\n      <td>2016-09-09</td>\n      <td>2016-10-08</td>\n      <td>29</td>\n      <td>college</td>\n      <td>0</td>\n      <td>0</td>\n      <td>0</td>\n      <td>0</td>\n      <td>1</td>\n    </tr>\n  </tbody>\n</table>\n</div>", 
                        "text/plain": "   unnamed_0  unnamed_1 loan_status  principal  terms effective_date  \\\n0          0          0     PAIDOFF       1000     30     2016-09-08   \n1          2          2     PAIDOFF       1000     30     2016-09-08   \n2          3          3     PAIDOFF       1000     15     2016-09-08   \n3          4          4     PAIDOFF       1000     30     2016-09-09   \n4          6          6     PAIDOFF       1000     30     2016-09-09   \n\n    due_date  age             education  gender  Bechalor  \\\n0 2016-10-07   45  High School or Below       0         0   \n1 2016-10-07   33              Bechalor       1         1   \n2 2016-09-22   27               college       0         0   \n3 2016-10-08   28               college       1         0   \n4 2016-10-08   29               college       0         0   \n\n   High School or Below  Master or Above  college  \n0                     1                0        0  \n1                     0                0        0  \n2                     0                0        1  \n3                     0                0        1  \n4                     0                0        1  "
                    }, 
                    "output_type": "execute_result"
                }
            ], 
            "source": "# Convert \"education\" Categorical Feature to be Numeric\ndf = pd.concat([df, pd.get_dummies(df[\"education\"])], axis=1)\ndf.head()"
        }, 
        {
            "execution_count": 10, 
            "cell_type": "code", 
            "metadata": {}, 
            "outputs": [
                {
                    "execution_count": 10, 
                    "metadata": {}, 
                    "data": {
                        "text/html": "<div>\n<style scoped>\n    .dataframe tbody tr th:only-of-type {\n        vertical-align: middle;\n    }\n\n    .dataframe tbody tr th {\n        vertical-align: top;\n    }\n\n    .dataframe thead th {\n        text-align: right;\n    }\n</style>\n<table border=\"1\" class=\"dataframe\">\n  <thead>\n    <tr style=\"text-align: right;\">\n      <th></th>\n      <th>unnamed_0</th>\n      <th>unnamed_1</th>\n      <th>loan_status</th>\n      <th>principal</th>\n      <th>terms</th>\n      <th>effective_date</th>\n      <th>due_date</th>\n      <th>age</th>\n      <th>education</th>\n      <th>gender</th>\n      <th>bachelors</th>\n      <th>high-school or below</th>\n      <th>masters or above</th>\n      <th>college</th>\n    </tr>\n  </thead>\n  <tbody>\n    <tr>\n      <th>0</th>\n      <td>0</td>\n      <td>0</td>\n      <td>PAIDOFF</td>\n      <td>1000</td>\n      <td>30</td>\n      <td>2016-09-08</td>\n      <td>2016-10-07</td>\n      <td>45</td>\n      <td>High School or Below</td>\n      <td>0</td>\n      <td>0</td>\n      <td>1</td>\n      <td>0</td>\n      <td>0</td>\n    </tr>\n    <tr>\n      <th>1</th>\n      <td>2</td>\n      <td>2</td>\n      <td>PAIDOFF</td>\n      <td>1000</td>\n      <td>30</td>\n      <td>2016-09-08</td>\n      <td>2016-10-07</td>\n      <td>33</td>\n      <td>Bechalor</td>\n      <td>1</td>\n      <td>1</td>\n      <td>0</td>\n      <td>0</td>\n      <td>0</td>\n    </tr>\n    <tr>\n      <th>2</th>\n      <td>3</td>\n      <td>3</td>\n      <td>PAIDOFF</td>\n      <td>1000</td>\n      <td>15</td>\n      <td>2016-09-08</td>\n      <td>2016-09-22</td>\n      <td>27</td>\n      <td>college</td>\n      <td>0</td>\n      <td>0</td>\n      <td>0</td>\n      <td>0</td>\n      <td>1</td>\n    </tr>\n    <tr>\n      <th>3</th>\n      <td>4</td>\n      <td>4</td>\n      <td>PAIDOFF</td>\n      <td>1000</td>\n      <td>30</td>\n      <td>2016-09-09</td>\n      <td>2016-10-08</td>\n      <td>28</td>\n      <td>college</td>\n      <td>1</td>\n      <td>0</td>\n      <td>0</td>\n      <td>0</td>\n      <td>1</td>\n    </tr>\n    <tr>\n      <th>4</th>\n      <td>6</td>\n      <td>6</td>\n      <td>PAIDOFF</td>\n      <td>1000</td>\n      <td>30</td>\n      <td>2016-09-09</td>\n      <td>2016-10-08</td>\n      <td>29</td>\n      <td>college</td>\n      <td>0</td>\n      <td>0</td>\n      <td>0</td>\n      <td>0</td>\n      <td>1</td>\n    </tr>\n  </tbody>\n</table>\n</div>", 
                        "text/plain": "   unnamed_0  unnamed_1 loan_status  principal  terms effective_date  \\\n0          0          0     PAIDOFF       1000     30     2016-09-08   \n1          2          2     PAIDOFF       1000     30     2016-09-08   \n2          3          3     PAIDOFF       1000     15     2016-09-08   \n3          4          4     PAIDOFF       1000     30     2016-09-09   \n4          6          6     PAIDOFF       1000     30     2016-09-09   \n\n    due_date  age             education  gender  bachelors  \\\n0 2016-10-07   45  High School or Below       0          0   \n1 2016-10-07   33              Bechalor       1          1   \n2 2016-09-22   27               college       0          0   \n3 2016-10-08   28               college       1          0   \n4 2016-10-08   29               college       0          0   \n\n   high-school or below  masters or above  college  \n0                     1                 0        0  \n1                     0                 0        0  \n2                     0                 0        1  \n3                     0                 0        1  \n4                     0                 0        1  "
                    }, 
                    "output_type": "execute_result"
                }
            ], 
            "source": "# Standardize (and Spellcheck lol) Column Names\ndf.rename(columns={\"Bechalor\":\"bachelors\",\n                   \"High School or Below\":\"high-school or below\",\n                   \"Master or Above\":\"masters or above\"}, inplace=True)\ndf.head()"
        }, 
        {
            "execution_count": 11, 
            "cell_type": "code", 
            "metadata": {}, 
            "outputs": [
                {
                    "execution_count": 11, 
                    "metadata": {}, 
                    "data": {
                        "text/html": "<div>\n<style scoped>\n    .dataframe tbody tr th:only-of-type {\n        vertical-align: middle;\n    }\n\n    .dataframe tbody tr th {\n        vertical-align: top;\n    }\n\n    .dataframe thead th {\n        text-align: right;\n    }\n</style>\n<table border=\"1\" class=\"dataframe\">\n  <thead>\n    <tr style=\"text-align: right;\">\n      <th></th>\n      <th>unnamed_0</th>\n      <th>unnamed_1</th>\n      <th>loan_status</th>\n      <th>principal</th>\n      <th>terms</th>\n      <th>effective_date</th>\n      <th>due_date</th>\n      <th>age</th>\n      <th>gender</th>\n      <th>bachelors</th>\n      <th>masters or above</th>\n      <th>college</th>\n    </tr>\n  </thead>\n  <tbody>\n    <tr>\n      <th>0</th>\n      <td>0</td>\n      <td>0</td>\n      <td>PAIDOFF</td>\n      <td>1000</td>\n      <td>30</td>\n      <td>2016-09-08</td>\n      <td>2016-10-07</td>\n      <td>45</td>\n      <td>0</td>\n      <td>0</td>\n      <td>0</td>\n      <td>0</td>\n    </tr>\n    <tr>\n      <th>1</th>\n      <td>2</td>\n      <td>2</td>\n      <td>PAIDOFF</td>\n      <td>1000</td>\n      <td>30</td>\n      <td>2016-09-08</td>\n      <td>2016-10-07</td>\n      <td>33</td>\n      <td>1</td>\n      <td>1</td>\n      <td>0</td>\n      <td>0</td>\n    </tr>\n    <tr>\n      <th>2</th>\n      <td>3</td>\n      <td>3</td>\n      <td>PAIDOFF</td>\n      <td>1000</td>\n      <td>15</td>\n      <td>2016-09-08</td>\n      <td>2016-09-22</td>\n      <td>27</td>\n      <td>0</td>\n      <td>0</td>\n      <td>0</td>\n      <td>1</td>\n    </tr>\n    <tr>\n      <th>3</th>\n      <td>4</td>\n      <td>4</td>\n      <td>PAIDOFF</td>\n      <td>1000</td>\n      <td>30</td>\n      <td>2016-09-09</td>\n      <td>2016-10-08</td>\n      <td>28</td>\n      <td>1</td>\n      <td>0</td>\n      <td>0</td>\n      <td>1</td>\n    </tr>\n    <tr>\n      <th>4</th>\n      <td>6</td>\n      <td>6</td>\n      <td>PAIDOFF</td>\n      <td>1000</td>\n      <td>30</td>\n      <td>2016-09-09</td>\n      <td>2016-10-08</td>\n      <td>29</td>\n      <td>0</td>\n      <td>0</td>\n      <td>0</td>\n      <td>1</td>\n    </tr>\n  </tbody>\n</table>\n</div>", 
                        "text/plain": "   unnamed_0  unnamed_1 loan_status  principal  terms effective_date  \\\n0          0          0     PAIDOFF       1000     30     2016-09-08   \n1          2          2     PAIDOFF       1000     30     2016-09-08   \n2          3          3     PAIDOFF       1000     15     2016-09-08   \n3          4          4     PAIDOFF       1000     30     2016-09-09   \n4          6          6     PAIDOFF       1000     30     2016-09-09   \n\n    due_date  age  gender  bachelors  masters or above  college  \n0 2016-10-07   45       0          0                 0        0  \n1 2016-10-07   33       1          1                 0        0  \n2 2016-09-22   27       0          0                 0        1  \n3 2016-10-08   28       1          0                 0        1  \n4 2016-10-08   29       0          0                 0        1  "
                    }, 
                    "output_type": "execute_result"
                }
            ], 
            "source": "# Drop High-School or Below, This is The Same As If All the Rest Are 0\ndf.drop([\"high-school or below\"], axis=1, inplace=True)\n# Drop Original Categorical Education Column\ndf.drop([\"education\"], axis=1, inplace=True)\ndf.head()"
        }, 
        {
            "source": "#### Visualization/Investigation of Data", 
            "cell_type": "markdown", 
            "metadata": {}
        }, 
        {
            "execution_count": 12, 
            "cell_type": "code", 
            "metadata": {}, 
            "outputs": [
                {
                    "output_type": "stream", 
                    "name": "stdout", 
                    "text": "Fetching package metadata .............\nSolving package specifications: .\n\n# All requested packages already installed.\n# packages in environment at /opt/conda/envs/DSX-Python35:\n#\nseaborn                   0.9.0                    py35_0    anaconda\n"
                }
            ], 
            "source": "# Install Seaborn for Data Visualization\n!conda install -c anaconda seaborn -y\nimport seaborn as sns"
        }, 
        {
            "execution_count": 13, 
            "cell_type": "code", 
            "metadata": {}, 
            "outputs": [
                {
                    "execution_count": 13, 
                    "metadata": {}, 
                    "data": {
                        "text/plain": "PAIDOFF       260\nCOLLECTION     86\nName: loan_status, dtype: int64"
                    }, 
                    "output_type": "execute_result"
                }
            ], 
            "source": "# Value Counts of Our Labels\ndf[\"loan_status\"].value_counts()"
        }, 
        {
            "execution_count": 14, 
            "cell_type": "code", 
            "metadata": {}, 
            "outputs": [
                {
                    "output_type": "display_data", 
                    "data": {
                        "image/png": "[encoded data removed]", 
                        "text/plain": "<matplotlib.figure.Figure at 0x7f8ac6760908>"
                    }, 
                    "metadata": {}
                }
            ], 
            "source": "# Graph Number of PAIDOFF and COLLECTION Loans vs. the Principal (For Men vs. Women)\nbins = np.linspace(df[\"principal\"].min(), df[\"principal\"].max(), 10)\ng = sns.FacetGrid(df, col=\"gender\", hue=\"loan_status\", palette=\"Set1\", col_wrap=2)\ng.map(plt.hist, \"principal\", bins=bins, ec=\"k\")\ng.axes[-1].legend()\nplt.show()"
        }, 
        {
            "execution_count": 15, 
            "cell_type": "code", 
            "metadata": {}, 
            "outputs": [
                {
                    "output_type": "display_data", 
                    "data": {
                        "image/png": "[encoded data removed]", 
                        "text/plain": "<matplotlib.figure.Figure at 0x7f8ac67605c0>"
                    }, 
                    "metadata": {}
                }
            ], 
            "source": "# Graph Number of PAIDOFF and COLLECTION Loans vs. the Age (For Men vs. Women)\nbins = np.linspace(df[\"age\"].min(), df[\"age\"].max(), 10)\ng = sns.FacetGrid(df, col=\"gender\", hue=\"loan_status\", palette=\"Set1\", col_wrap=2)\ng.map(plt.hist, \"age\", bins=bins, ec=\"k\")\ng.axes[-1].legend()\nplt.show()"
        }, 
        {
            "execution_count": 16, 
            "cell_type": "code", 
            "metadata": {}, 
            "outputs": [
                {
                    "output_type": "display_data", 
                    "data": {
                        "image/png": "[encoded data removed]", 
                        "text/plain": "<matplotlib.figure.Figure at 0x7f8abe8daf98>"
                    }, 
                    "metadata": {}
                }
            ], 
            "source": "# Data Investigation -> Maybe Day of Week is Significant?\n\n# Add Day of Week Column\ndf[\"day_of_week\"] = df[\"effective_date\"].dt.dayofweek\n# Calculate Bins\nbins = np.linspace(df[\"day_of_week\"].min(), df[\"day_of_week\"].max(), 10)\n# Create Seaborn Graph with Data\ng = sns.FacetGrid(df, col=\"gender\", hue=\"loan_status\", palette=\"Set1\", col_wrap=2)\n# Map Graph as Histogram\ng.map(plt.hist, \"day_of_week\", bins=bins, ec=\"k\")\n# Add Legend to Last Subplot\ng.axes[-1].legend()\n# Show Graph\nplt.show()"
        }, 
        {
            "execution_count": 17, 
            "cell_type": "code", 
            "metadata": {}, 
            "outputs": [
                {
                    "execution_count": 17, 
                    "metadata": {}, 
                    "data": {
                        "text/html": "<div>\n<style scoped>\n    .dataframe tbody tr th:only-of-type {\n        vertical-align: middle;\n    }\n\n    .dataframe tbody tr th {\n        vertical-align: top;\n    }\n\n    .dataframe thead th {\n        text-align: right;\n    }\n</style>\n<table border=\"1\" class=\"dataframe\">\n  <thead>\n    <tr style=\"text-align: right;\">\n      <th></th>\n      <th>unnamed_0</th>\n      <th>unnamed_1</th>\n      <th>loan_status</th>\n      <th>principal</th>\n      <th>terms</th>\n      <th>effective_date</th>\n      <th>due_date</th>\n      <th>age</th>\n      <th>gender</th>\n      <th>bachelors</th>\n      <th>masters or above</th>\n      <th>college</th>\n      <th>weekend</th>\n    </tr>\n  </thead>\n  <tbody>\n    <tr>\n      <th>0</th>\n      <td>0</td>\n      <td>0</td>\n      <td>PAIDOFF</td>\n      <td>1000</td>\n      <td>30</td>\n      <td>2016-09-08</td>\n      <td>2016-10-07</td>\n      <td>45</td>\n      <td>0</td>\n      <td>0</td>\n      <td>0</td>\n      <td>0</td>\n      <td>0</td>\n    </tr>\n    <tr>\n      <th>1</th>\n      <td>2</td>\n      <td>2</td>\n      <td>PAIDOFF</td>\n      <td>1000</td>\n      <td>30</td>\n      <td>2016-09-08</td>\n      <td>2016-10-07</td>\n      <td>33</td>\n      <td>1</td>\n      <td>1</td>\n      <td>0</td>\n      <td>0</td>\n      <td>0</td>\n    </tr>\n    <tr>\n      <th>2</th>\n      <td>3</td>\n      <td>3</td>\n      <td>PAIDOFF</td>\n      <td>1000</td>\n      <td>15</td>\n      <td>2016-09-08</td>\n      <td>2016-09-22</td>\n      <td>27</td>\n      <td>0</td>\n      <td>0</td>\n      <td>0</td>\n      <td>1</td>\n      <td>0</td>\n    </tr>\n    <tr>\n      <th>3</th>\n      <td>4</td>\n      <td>4</td>\n      <td>PAIDOFF</td>\n      <td>1000</td>\n      <td>30</td>\n      <td>2016-09-09</td>\n      <td>2016-10-08</td>\n      <td>28</td>\n      <td>1</td>\n      <td>0</td>\n      <td>0</td>\n      <td>1</td>\n      <td>1</td>\n    </tr>\n    <tr>\n      <th>4</th>\n      <td>6</td>\n      <td>6</td>\n      <td>PAIDOFF</td>\n      <td>1000</td>\n      <td>30</td>\n      <td>2016-09-09</td>\n      <td>2016-10-08</td>\n      <td>29</td>\n      <td>0</td>\n      <td>0</td>\n      <td>0</td>\n      <td>1</td>\n      <td>1</td>\n    </tr>\n  </tbody>\n</table>\n</div>", 
                        "text/plain": "   unnamed_0  unnamed_1 loan_status  principal  terms effective_date  \\\n0          0          0     PAIDOFF       1000     30     2016-09-08   \n1          2          2     PAIDOFF       1000     30     2016-09-08   \n2          3          3     PAIDOFF       1000     15     2016-09-08   \n3          4          4     PAIDOFF       1000     30     2016-09-09   \n4          6          6     PAIDOFF       1000     30     2016-09-09   \n\n    due_date  age  gender  bachelors  masters or above  college  weekend  \n0 2016-10-07   45       0          0                 0        0        0  \n1 2016-10-07   33       1          1                 0        0        0  \n2 2016-09-22   27       0          0                 0        1        0  \n3 2016-10-08   28       1          0                 0        1        1  \n4 2016-10-08   29       0          0                 0        1        1  "
                    }, 
                    "output_type": "execute_result"
                }
            ], 
            "source": "# Looks Like There is Some Significance, Loans on the Weekend Aren't Paidoff\n\n# Add Binary Column Representing Weekend\ndf[\"weekend\"] = df[\"day_of_week\"].apply(lambda x: 1 if (x>3) else 0)\n# Drop Day of Week Column\ndf.drop([\"day_of_week\"], axis=1, inplace=True)\ndf.head()"
        }, 
        {
            "source": "#### Choose Feature/Label Set", 
            "cell_type": "markdown", 
            "metadata": {}
        }, 
        {
            "execution_count": 18, 
            "cell_type": "code", 
            "metadata": {}, 
            "outputs": [
                {
                    "execution_count": 18, 
                    "metadata": {}, 
                    "data": {
                        "text/plain": "array([[1000,   30,   45,    0,    0,    0,    0,    0],\n       [1000,   30,   33,    1,    0,    1,    0,    0],\n       [1000,   15,   27,    0,    0,    0,    0,    1],\n       [1000,   30,   28,    1,    1,    0,    0,    1],\n       [1000,   30,   29,    0,    1,    0,    0,    1]])"
                    }, 
                    "output_type": "execute_result"
                }
            ], 
            "source": "# Select our Feature Set\nX = df[[\"principal\", \"terms\", \"age\", \"gender\", \"weekend\", \"bachelors\", \"masters or above\", \"college\"]].values\nX[0:5]"
        }, 
        {
            "execution_count": 19, 
            "cell_type": "code", 
            "metadata": {}, 
            "outputs": [
                {
                    "output_type": "stream", 
                    "name": "stderr", 
                    "text": "/opt/conda/envs/DSX-Python35/lib/python3.5/site-packages/sklearn/utils/validation.py:475: DataConversionWarning: Data with input dtype int64 was converted to float64 by StandardScaler.\n  warnings.warn(msg, DataConversionWarning)\n"
                }, 
                {
                    "execution_count": 19, 
                    "metadata": {}, 
                    "data": {
                        "text/plain": "array([[ 0.51578458,  0.92071769,  2.33152555, -0.42056004, -1.20577805,\n        -0.38170062, -0.07624929, -0.86968108],\n       [ 0.51578458,  0.92071769,  0.34170148,  2.37778177, -1.20577805,\n         2.61985426, -0.07624929, -0.86968108],\n       [ 0.51578458, -0.95911111, -0.65321055, -0.42056004, -1.20577805,\n        -0.38170062, -0.07624929,  1.14984679],\n       [ 0.51578458,  0.92071769, -0.48739188,  2.37778177,  0.82934003,\n        -0.38170062, -0.07624929,  1.14984679],\n       [ 0.51578458,  0.92071769, -0.3215732 , -0.42056004,  0.82934003,\n        -0.38170062, -0.07624929,  1.14984679]])"
                    }, 
                    "output_type": "execute_result"
                }
            ], 
            "source": "# Normalize Feature Set Data\nX = preprocessing.StandardScaler().fit(X).transform(X)\nX[0:5]"
        }, 
        {
            "execution_count": 20, 
            "cell_type": "code", 
            "metadata": {}, 
            "outputs": [
                {
                    "execution_count": 20, 
                    "metadata": {}, 
                    "data": {
                        "text/plain": "array(['PAIDOFF', 'PAIDOFF', 'PAIDOFF', 'PAIDOFF', 'PAIDOFF'], dtype=object)"
                    }, 
                    "output_type": "execute_result"
                }
            ], 
            "source": "# Select our Label Set\ny = df[\"loan_status\"].values\ny[0:5]"
        }, 
        {
            "source": "## 2. Classification", 
            "cell_type": "markdown", 
            "metadata": {
                "button": false, 
                "new_sheet": false, 
                "run_control": {
                    "read_only": false
                }
            }
        }, 
        {
            "source": "Now, it is your turn, use the training set to build an accurate model. Then use the test set to report the accuracy of the model.<br>\nYou should use the following algorithms:\n- K Nearest Neighbor(KNN)\n- Decision Tree\n- Support Vector Machine\n- Logistic Regression\n\n\n\n__ Notice:__ \n- (Done)    You can go above and change the pre-processing, feature selection, feature-extraction, and so on, to make a better model.\n- (sklearn) You should use either scikit-learn, Scipy or Numpy libraries for developing the classification algorithms.\n- (Done)    You should include the code of the algorithm in the following cells.", 
            "cell_type": "markdown", 
            "metadata": {
                "button": false, 
                "new_sheet": false, 
                "run_control": {
                    "read_only": false
                }
            }
        }, 
        {
            "source": "#### K Nearest Neighbor(KNN)\nNotice: You should find the best k to build the model with the best accuracy.  \n**warning:** You should not use the __loan_test.csv__ for finding the best k, however, you can split your train_loan.csv into train and test to find the best __k__.", 
            "cell_type": "markdown", 
            "metadata": {}
        }, 
        {
            "execution_count": 21, 
            "cell_type": "code", 
            "metadata": {}, 
            "outputs": [], 
            "source": "# Import Packages\nfrom sklearn import metrics\nfrom sklearn.model_selection import train_test_split     as tts\nfrom sklearn.neighbors       import KNeighborsClassifier as kNN"
        }, 
        {
            "execution_count": 22, 
            "cell_type": "code", 
            "metadata": {}, 
            "outputs": [
                {
                    "output_type": "stream", 
                    "name": "stdout", 
                    "text": "Training Set -> X Shape: (276, 8) | y Shape: (276,)\nTest Set     -> X Shape: (70, 8) | y Shape: (70,)\n"
                }
            ], 
            "source": "# Split Data into Train Set and Test Set\nX_train, X_test, y_train, y_test = tts(X, y, test_size=0.2, random_state=4)\nprint(\"Training Set -> X Shape: \"+str(X_train.shape)+\" | y Shape: \"+str(y_train.shape))\nprint(\"Test Set     -> X Shape: \"+str(X_test.shape)+\" | y Shape: \"+str(y_test.shape))"
        }, 
        {
            "execution_count": 23, 
            "cell_type": "code", 
            "metadata": {}, 
            "outputs": [
                {
                    "output_type": "display_data", 
                    "data": {
                        "image/png": "[encoded data removed]", 
                        "text/plain": "<matplotlib.figure.Figure at 0x7f8abe8daf28>"
                    }, 
                    "metadata": {}
                }, 
                {
                    "output_type": "stream", 
                    "name": "stdout", 
                    "text": "The best accuracy was 0.8 and achieved with a k=7.\n"
                }
            ], 
            "source": "# Selecting K (n_neighbors)\n#   Doing some research led me to find that k = sqrt(n) is a good guess\n#   for the optimal value of k. In order to really test this, I will make\n#   this the maximum k and try all the k's in steps of one until that number\n#   is reached. The k with the best resulting accuracy will be selected.\n#   Research also recommended selecting an odd value of k to avoid confusion.\ndef find_max_k(n):\n    max_k = np.trunc(np.sqrt(n))+1\n    if max_k%2 == 0:\n        return max_k+1\n    else:\n        return max_k    \nmax_k = find_max_k(X_train.shape[0]).astype(int)\n\n# Loop Through k's, Create Model and Store Accuracies and Standard Deviations\naccuracy_mean = np.zeros((max_k))\naccuracy_std  = np.zeros((max_k))\nfor k in range(1, max_k+1):\n    kNN_model = kNN(n_neighbors=k).fit(X_train,y_train)\n    kNN_preds = kNN_model.predict(X_test)\n    accuracy_mean[k-1] = metrics.accuracy_score(y_test, kNN_preds)\n    accuracy_std[k-1]  = np.std(y_test==kNN_preds)/np.sqrt(kNN_preds.shape[0])\n    \n# Plot Results of Iterations\nplt.plot(range(1, max_k+1), accuracy_mean, \"g\")\nplt.fill_between(range(1, max_k+1), accuracy_mean - 1*accuracy_std, accuracy_mean + 1*accuracy_std, alpha=0.10)\nplt.legend((\"Mean Accuracy\",\"+/- 1 Standard Deviation\"))\nplt.xlabel(\"Number of Neighbors (k)\")\nplt.ylabel(\"Accuracy\")\nplt.tight_layout()\nplt.show()\n\n# Print Best Results\nprint(\"The best accuracy was \"+str(accuracy_mean.max())+\" and achieved with a k=\"+str(accuracy_mean.argmax()+1)+\".\")"
        }, 
        {
            "source": "#### Decision Tree Classifier", 
            "cell_type": "markdown", 
            "metadata": {}
        }, 
        {
            "execution_count": 24, 
            "cell_type": "code", 
            "metadata": {}, 
            "outputs": [], 
            "source": "# Import Packages\nfrom sklearn import metrics\nfrom sklearn.model_selection import train_test_split       as tts\nfrom sklearn.tree            import DecisionTreeClassifier as dtc"
        }, 
        {
            "execution_count": 25, 
            "cell_type": "code", 
            "metadata": {}, 
            "outputs": [
                {
                    "output_type": "stream", 
                    "name": "stdout", 
                    "text": "Training Set -> X Shape: (276, 8) | y Shape: (276,)\nTest Set     -> X Shape: (70, 8) | y Shape: (70,)\n"
                }
            ], 
            "source": "# Split Data into Train Set and Test Set\nX_train, X_test, y_train, y_test = tts(X, y, test_size=0.2, random_state=4)\nprint(\"Training Set -> X Shape: \"+str(X_train.shape)+\" | y Shape: \"+str(y_train.shape))\nprint(\"Test Set     -> X Shape: \"+str(X_test.shape)+\" | y Shape: \"+str(y_test.shape))"
        }, 
        {
            "execution_count": 26, 
            "cell_type": "code", 
            "metadata": {}, 
            "outputs": [
                {
                    "output_type": "display_data", 
                    "data": {
                        "image/png": "[encoded data removed]", 
                        "text/plain": "<matplotlib.figure.Figure at 0x7f8abe9be828>"
                    }, 
                    "metadata": {}
                }, 
                {
                    "output_type": "stream", 
                    "name": "stdout", 
                    "text": "The best accuracy was 0.785714285714 and achieved with a max_depth=1.\n"
                }
            ], 
            "source": "# Selecting Max Depth (max_depth)\n#   The max possible max depth values is one less than the total number of examples,\n#   this would mean that there is a branch for every example.\nmax_d = X_train.shape[0]-1\n\n# Loop Through d's, Create Model and Store Accuracies and Standard Deviations\naccuracy_mean = np.zeros((max_d))\naccuracy_std  = np.zeros((max_d))\nfor d in range(1, max_d+1):\n    dtc_model = dtc(criterion=\"entropy\", max_depth=d).fit(X_train,y_train)\n    dtc_preds = dtc_model.predict(X_test)\n    accuracy_mean[d-1] = metrics.accuracy_score(y_test, dtc_preds)\n    accuracy_std[d-1]  = np.std(y_test==dtc_preds)/np.sqrt(dtc_preds.shape[0])\n    \n# Plot Results of Iterations\nplt.plot(range(1, max_d+1), accuracy_mean, \"g\")\nplt.fill_between(range(1, max_d+1), accuracy_mean - 1*accuracy_std, accuracy_mean + 1*accuracy_std, alpha=0.10)\nplt.legend((\"Mean Accuracy\",\"+/- 1 Standard Deviation\"))\nplt.xlabel(\"Max Depth (d)\")\nplt.ylabel(\"Accuracy\")\nplt.tight_layout()\nplt.show()\n\n# Print Best Results\nprint(\"The best accuracy was \"+str(accuracy_mean.max())+\" and achieved with a max_depth=\"+str(accuracy_mean.argmax()+1)+\".\")"
        }, 
        {
            "source": "#### Support Vector Machine", 
            "cell_type": "markdown", 
            "metadata": {}
        }, 
        {
            "execution_count": 27, 
            "cell_type": "code", 
            "metadata": {}, 
            "outputs": [], 
            "source": "# Import Packages\nfrom sklearn import metrics\nfrom sklearn import svm\nfrom sklearn.model_selection import train_test_split       as tts"
        }, 
        {
            "execution_count": 28, 
            "cell_type": "code", 
            "metadata": {}, 
            "outputs": [
                {
                    "output_type": "stream", 
                    "name": "stdout", 
                    "text": "Training Set -> X Shape: (276, 8) | y Shape: (276,)\nTest Set     -> X Shape: (70, 8) | y Shape: (70,)\n"
                }
            ], 
            "source": "# Split Data into Train Set and Test Set\nX_train, X_test, y_train, y_test = tts(X, y, test_size=0.2, random_state=4)\nprint(\"Training Set -> X Shape: \"+str(X_train.shape)+\" | y Shape: \"+str(y_train.shape))\nprint(\"Test Set     -> X Shape: \"+str(X_test.shape)+\" | y Shape: \"+str(y_test.shape))"
        }, 
        {
            "execution_count": 29, 
            "cell_type": "code", 
            "metadata": {}, 
            "outputs": [
                {
                    "output_type": "stream", 
                    "name": "stdout", 
                    "text": "Accuracies for Each Kernel ->\nKernel Type: linear | Mean Accuracy: 0.785714285714 | Std Accuracy: 0.0490433258804\nKernel Type: poly | Mean Accuracy: 0.771428571429 | Std Accuracy: 0.0501891466088\nKernel Type: rbf | Mean Accuracy: 0.728571428571 | Std Accuracy: 0.0531514147159\nKernel Type: sigmoid | Mean Accuracy: 0.728571428571 | Std Accuracy: 0.0531514147159\n\nThe best accuracy was 0.785714285714 and achieved with a kernel type of: linear.\n"
                }
            ], 
            "source": "# Selecting Kernel (kernel)\n#   There are a few kernel options, I will try them all and choose the one\n#   with the best accuracy score.\nkernels = [\"linear\", \"poly\", \"rbf\", \"sigmoid\"]\n\n# Loop Through kernels, Create Model and Store Accuracies and Standard Deviations\naccuracy_mean = np.zeros((len(kernels)))\naccuracy_std  = np.zeros((len(kernels)))\nprint(\"Accuracies for Each Kernel ->\")\nfor index,value in enumerate(kernels):\n    svm_model = svm.SVC(kernel=value).fit(X_train,y_train)\n    svm_preds = svm_model.predict(X_test)\n    accuracy_mean[index] = metrics.accuracy_score(y_test, svm_preds)\n    accuracy_std[index] = np.std(y_test==svm_preds)/np.sqrt(svm_preds.shape[0])\n    print(\"Kernel Type: \"+str(value)+\" | Mean Accuracy: \"+str(accuracy_mean[index])+\" | Std Accuracy: \"+str(accuracy_std[index]))\nprint(\"\")\n\n# Print Best Results\nprint(\"The best accuracy was \"+str(accuracy_mean.max())+\" and achieved with a kernel type of: \"+str(kernels[accuracy_mean.argmax()])+\".\")"
        }, 
        {
            "source": "#### Logistic Regression", 
            "cell_type": "markdown", 
            "metadata": {}
        }, 
        {
            "execution_count": 30, 
            "cell_type": "code", 
            "metadata": {}, 
            "outputs": [], 
            "source": "# Import Packages\nfrom sklearn import metrics\nfrom sklearn.metrics         import confusion_matrix\nfrom sklearn.model_selection import train_test_split       as tts\nfrom sklearn.linear_model    import LogisticRegression     as LR"
        }, 
        {
            "execution_count": 31, 
            "cell_type": "code", 
            "metadata": {}, 
            "outputs": [
                {
                    "output_type": "stream", 
                    "name": "stdout", 
                    "text": "Training Set -> X Shape: (276, 8) | y Shape: (276,)\nTest Set     -> X Shape: (70, 8) | y Shape: (70,)\n"
                }
            ], 
            "source": "# Split Data into Train Set and Test Set\nX_train, X_test, y_train, y_test = tts(X, y, test_size=0.2, random_state=4)\nprint(\"Training Set -> X Shape: \"+str(X_train.shape)+\" | y Shape: \"+str(y_train.shape))\nprint(\"Test Set     -> X Shape: \"+str(X_test.shape)+\" | y Shape: \"+str(y_test.shape))"
        }, 
        {
            "execution_count": 32, 
            "cell_type": "code", 
            "metadata": {}, 
            "outputs": [
                {
                    "output_type": "stream", 
                    "name": "stdout", 
                    "text": "Accuracies for Each Solver/C Pair ->\n\nAccuracies for Each C of the Solver: newton-cg\nC: 0.001 | Mean Accuracy: 0.785714285714 | Std Accuracy: 0.0490433258804\nC: 0.01 | Mean Accuracy: 0.785714285714 | Std Accuracy: 0.0490433258804\nC: 0.1 | Mean Accuracy: 0.757142857143 | Std Accuracy: 0.0512525331807\nC: 1 | Mean Accuracy: 0.728571428571 | Std Accuracy: 0.0531514147159\nC: 10 | Mean Accuracy: 0.728571428571 | Std Accuracy: 0.0531514147159\nC: 100 | Mean Accuracy: 0.714285714286 | Std Accuracy: 0.0539949247156\nC: 1000 | Mean Accuracy: 0.714285714286 | Std Accuracy: 0.0539949247156\n\nAccuracies for Each C of the Solver: lbfgs\nC: 0.001 | Mean Accuracy: 0.785714285714 | Std Accuracy: 0.0490433258804\nC: 0.01 | Mean Accuracy: 0.785714285714 | Std Accuracy: 0.0490433258804\nC: 0.1 | Mean Accuracy: 0.757142857143 | Std Accuracy: 0.0512525331807\nC: 1 | Mean Accuracy: 0.728571428571 | Std Accuracy: 0.0531514147159\nC: 10 | Mean Accuracy: 0.728571428571 | Std Accuracy: 0.0531514147159\nC: 100 | Mean Accuracy: 0.714285714286 | Std Accuracy: 0.0539949247156\nC: 1000 | Mean Accuracy: 0.714285714286 | Std Accuracy: 0.0539949247156\n\nAccuracies for Each C of the Solver: liblinear\nC: 0.001 | Mean Accuracy: 0.642857142857 | Std Accuracy: 0.0572702661241\nC: 0.01 | Mean Accuracy: 0.685714285714 | Std Accuracy: 0.0554861892832\nC: 0.1 | Mean Accuracy: 0.728571428571 | Std Accuracy: 0.0531514147159\nC: 1 | Mean Accuracy: 0.714285714286 | Std Accuracy: 0.0539949247156\nC: 10 | Mean Accuracy: 0.714285714286 | Std Accuracy: 0.0539949247156\nC: 100 | Mean Accuracy: 0.714285714286 | Std Accuracy: 0.0539949247156\nC: 1000 | Mean Accuracy: 0.714285714286 | Std Accuracy: 0.0539949247156\n\nAccuracies for Each C of the Solver: sag\nC: 0.001 | Mean Accuracy: 0.785714285714 | Std Accuracy: 0.0490433258804\nC: 0.01 | Mean Accuracy: 0.785714285714 | Std Accuracy: 0.0490433258804\nC: 0.1 | Mean Accuracy: 0.757142857143 | Std Accuracy: 0.0512525331807\nC: 1 | Mean Accuracy: 0.728571428571 | Std Accuracy: 0.0531514147159\nC: 10 | Mean Accuracy: 0.728571428571 | Std Accuracy: 0.0531514147159\nC: 100 | Mean Accuracy: 0.714285714286 | Std Accuracy: 0.0539949247156\nC: 1000 | Mean Accuracy: 0.714285714286 | Std Accuracy: 0.0539949247156\n\nAccuracies for Each C of the Solver: saga\nC: 0.001 | Mean Accuracy: 0.785714285714 | Std Accuracy: 0.0490433258804\nC: 0.01 | Mean Accuracy: 0.785714285714 | Std Accuracy: 0.0490433258804\nC: 0.1 | Mean Accuracy: 0.757142857143 | Std Accuracy: 0.0512525331807\nC: 1 | Mean Accuracy: 0.728571428571 | Std Accuracy: 0.0531514147159\nC: 10 | Mean Accuracy: 0.728571428571 | Std Accuracy: 0.0531514147159\nC: 100 | Mean Accuracy: 0.714285714286 | Std Accuracy: 0.0539949247156\nC: 1000 | Mean Accuracy: 0.714285714286 | Std Accuracy: 0.0539949247156\n\n\nThe best accuracy was 0.785714285714.\nSolver:  newton-cg\n     C:  0.001\n"
                }, 
                {
                    "output_type": "stream", 
                    "name": "stderr", 
                    "text": "/opt/conda/envs/DSX-Python35/lib/python3.5/site-packages/sklearn/linear_model/sag.py:326: ConvergenceWarning: The max_iter was reached which means the coef_ did not converge\n  \"the coef_ did not converge\", ConvergenceWarning)\n"
                }
            ], 
            "source": "# Selecting Solver (solver) and Regularization Strength (C)\nsolvers = [\"newton-cg\", \"lbfgs\", \"liblinear\", \"sag\", \"saga\"]\npossible_Cs = [0.001, 0.01, 0.1, 1, 10, 100, 1000]\n\n# Loop Through solvers and c's, Create Model and Store Accuracies and Standard Deviations\naccuracy_mean = np.zeros((len(solvers),len(possible_Cs)))\naccuracy_std  = np.zeros((len(solvers),len(possible_Cs)))\nprint(\"Accuracies for Each Solver/C Pair ->\")\nprint(\"\")\nfor index1,value1 in enumerate(solvers):\n    print(\"Accuracies for Each C of the Solver: \"+str(value1))\n    for index2,value2 in enumerate(possible_Cs):\n        lr_model = LR(C=value2,solver=value1).fit(X_train,y_train)\n        lr_preds = lr_model.predict(X_test)\n        accuracy_mean[index1][index2] = metrics.accuracy_score(y_test, lr_preds)\n        accuracy_std[index1][index2] = np.std(y_test==lr_preds)/np.sqrt(lr_preds.shape[0])\n        print(\"C: \"+str(value2)+\" | Mean Accuracy: \"+str(accuracy_mean[index1][index2])+\" | Std Accuracy: \"+str(accuracy_std[index1][index2]))\n    print(\"\")\nprint(\"\")\n\n# Print Best Results\nmax_acc_val = accuracy_mean.max()\nmax_acc_idx = np.unravel_index(np.argmax(accuracy_mean, axis=None), accuracy_mean.shape)\nmax_acc_solver = solvers[max_acc_idx[0]]\nmax_acc_C = possible_Cs[max_acc_idx[1]]\nprint(\"The best accuracy was \"+str(max_acc_val)+\".\")\nprint(\"Solver: \", max_acc_solver)\nprint(\"     C: \", max_acc_C)\n"
        }, 
        {
            "source": "## 3. Model Evaluation (Using New Test Set)", 
            "cell_type": "markdown", 
            "metadata": {}
        }, 
        {
            "execution_count": 33, 
            "cell_type": "code", 
            "metadata": {}, 
            "outputs": [], 
            "source": "# Import Packages\nfrom sklearn.metrics import jaccard_similarity_score as jss\nfrom sklearn.metrics import f1_score as f1\nfrom sklearn.metrics import log_loss as ll"
        }, 
        {
            "source": "First, download and load the test set:", 
            "cell_type": "markdown", 
            "metadata": {}
        }, 
        {
            "execution_count": 34, 
            "cell_type": "code", 
            "metadata": {}, 
            "outputs": [
                {
                    "output_type": "stream", 
                    "name": "stdout", 
                    "text": "--2019-04-16 20:10:45--  https://s3-api.us-geo.objectstorage.softlayer.net/cf-courses-data/CognitiveClass/ML0101ENv3/labs/loan_test.csv\nResolving s3-api.us-geo.objectstorage.softlayer.net (s3-api.us-geo.objectstorage.softlayer.net)... 67.228.254.193\nConnecting to s3-api.us-geo.objectstorage.softlayer.net (s3-api.us-geo.objectstorage.softlayer.net)|67.228.254.193|:443... connected.\nHTTP request sent, awaiting response... 200 OK\nLength: 3642 (3.6K) [text/csv]\nSaving to: \u2018loan_test.csv\u2019\n\n100%[======================================>] 3,642       --.-K/s   in 0s      \n\n2019-04-16 20:10:46 (683 MB/s) - \u2018loan_test.csv\u2019 saved [3642/3642]\n\n"
                }
            ], 
            "source": "# Download Dataset\n!wget -O loan_test.csv https://s3-api.us-geo.objectstorage.softlayer.net/cf-courses-data/CognitiveClass/ML0101ENv3/labs/loan_test.csv"
        }, 
        {
            "source": "#### Proprocess Test Dataset ", 
            "cell_type": "markdown", 
            "metadata": {
                "button": false, 
                "new_sheet": false, 
                "run_control": {
                    "read_only": false
                }
            }
        }, 
        {
            "execution_count": 35, 
            "cell_type": "code", 
            "metadata": {
                "button": false, 
                "new_sheet": false, 
                "run_control": {
                    "read_only": false
                }
            }, 
            "outputs": [
                {
                    "execution_count": 35, 
                    "metadata": {}, 
                    "data": {
                        "text/html": "<div>\n<style scoped>\n    .dataframe tbody tr th:only-of-type {\n        vertical-align: middle;\n    }\n\n    .dataframe tbody tr th {\n        vertical-align: top;\n    }\n\n    .dataframe thead th {\n        text-align: right;\n    }\n</style>\n<table border=\"1\" class=\"dataframe\">\n  <thead>\n    <tr style=\"text-align: right;\">\n      <th></th>\n      <th>Unnamed: 0</th>\n      <th>Unnamed: 0.1</th>\n      <th>loan_status</th>\n      <th>Principal</th>\n      <th>terms</th>\n      <th>effective_date</th>\n      <th>due_date</th>\n      <th>age</th>\n      <th>education</th>\n      <th>Gender</th>\n    </tr>\n  </thead>\n  <tbody>\n    <tr>\n      <th>0</th>\n      <td>1</td>\n      <td>1</td>\n      <td>PAIDOFF</td>\n      <td>1000</td>\n      <td>30</td>\n      <td>9/8/2016</td>\n      <td>10/7/2016</td>\n      <td>50</td>\n      <td>Bechalor</td>\n      <td>female</td>\n    </tr>\n    <tr>\n      <th>1</th>\n      <td>5</td>\n      <td>5</td>\n      <td>PAIDOFF</td>\n      <td>300</td>\n      <td>7</td>\n      <td>9/9/2016</td>\n      <td>9/15/2016</td>\n      <td>35</td>\n      <td>Master or Above</td>\n      <td>male</td>\n    </tr>\n    <tr>\n      <th>2</th>\n      <td>21</td>\n      <td>21</td>\n      <td>PAIDOFF</td>\n      <td>1000</td>\n      <td>30</td>\n      <td>9/10/2016</td>\n      <td>10/9/2016</td>\n      <td>43</td>\n      <td>High School or Below</td>\n      <td>female</td>\n    </tr>\n    <tr>\n      <th>3</th>\n      <td>24</td>\n      <td>24</td>\n      <td>PAIDOFF</td>\n      <td>1000</td>\n      <td>30</td>\n      <td>9/10/2016</td>\n      <td>10/9/2016</td>\n      <td>26</td>\n      <td>college</td>\n      <td>male</td>\n    </tr>\n    <tr>\n      <th>4</th>\n      <td>35</td>\n      <td>35</td>\n      <td>PAIDOFF</td>\n      <td>800</td>\n      <td>15</td>\n      <td>9/11/2016</td>\n      <td>9/25/2016</td>\n      <td>29</td>\n      <td>Bechalor</td>\n      <td>male</td>\n    </tr>\n  </tbody>\n</table>\n</div>", 
                        "text/plain": "   Unnamed: 0  Unnamed: 0.1 loan_status  Principal  terms effective_date  \\\n0           1             1     PAIDOFF       1000     30       9/8/2016   \n1           5             5     PAIDOFF        300      7       9/9/2016   \n2          21            21     PAIDOFF       1000     30      9/10/2016   \n3          24            24     PAIDOFF       1000     30      9/10/2016   \n4          35            35     PAIDOFF        800     15      9/11/2016   \n\n    due_date  age             education  Gender  \n0  10/7/2016   50              Bechalor  female  \n1  9/15/2016   35       Master or Above    male  \n2  10/9/2016   43  High School or Below  female  \n3  10/9/2016   26               college    male  \n4  9/25/2016   29              Bechalor    male  "
                    }, 
                    "output_type": "execute_result"
                }
            ], 
            "source": "# Load and Show Head\ntest_df = pd.read_csv('loan_test.csv')\ntest_df.head()"
        }, 
        {
            "execution_count": 36, 
            "cell_type": "code", 
            "metadata": {}, 
            "outputs": [], 
            "source": "# Preprocess (Exact Same as Beginning of Notebook)\ntest_df.rename(columns={\"Unnamed: 0\":\"unnamed_0\",\n                   \"Unnamed: 0.1\":\"unnamed_1\",\n                   \"Principal\":\"principal\",\n                   \"Gender\":\"gender\"}, inplace=True)\ntest_df[\"due_date\"] = pd.to_datetime(test_df[\"due_date\"])\ntest_df[\"effective_date\"] = pd.to_datetime(test_df[\"effective_date\"])\ntest_df[\"gender\"].replace(to_replace=[\"male\",\"female\"], value=[0,1], inplace=True)\ntest_df = pd.concat([test_df, pd.get_dummies(test_df[\"education\"])], axis=1)\ntest_df.rename(columns={\"Bechalor\":\"bachelors\",\n                   \"High School or Below\":\"high-school or below\",\n                   \"Master or Above\":\"masters or above\"}, inplace=True)\ntest_df.drop([\"high-school or below\"], axis=1, inplace=True)\ntest_df.drop([\"education\"], axis=1, inplace=True)\ntest_df[\"day_of_week\"] = test_df[\"effective_date\"].dt.dayofweek\ntest_df[\"weekend\"] = test_df[\"day_of_week\"].apply(lambda x: 1 if (x>3) else 0)\ntest_df.drop([\"day_of_week\"], axis=1, inplace=True)"
        }, 
        {
            "execution_count": 37, 
            "cell_type": "code", 
            "metadata": {}, 
            "outputs": [
                {
                    "output_type": "stream", 
                    "name": "stderr", 
                    "text": "/opt/conda/envs/DSX-Python35/lib/python3.5/site-packages/sklearn/utils/validation.py:475: DataConversionWarning: Data with input dtype int64 was converted to float64 by StandardScaler.\n  warnings.warn(msg, DataConversionWarning)\n"
                }
            ], 
            "source": "# Feature/Label Selection\ntest_X = test_df[[\"principal\", \"terms\", \"age\", \"gender\", \"weekend\", \"bachelors\", \"masters or above\", \"college\"]].values\ntest_X = preprocessing.StandardScaler().fit(test_X).transform(test_X)\ntest_y = test_df[\"loan_status\"].values"
        }, 
        {
            "source": "#### k-Nearest Neighbors Model Test", 
            "cell_type": "markdown", 
            "metadata": {}
        }, 
        {
            "execution_count": 38, 
            "cell_type": "code", 
            "metadata": {}, 
            "outputs": [
                {
                    "output_type": "stream", 
                    "name": "stdout", 
                    "text": "Jaccard Similarity Score:  0.685185185185\nF1 Score:  0.660225442834\n"
                }
            ], 
            "source": "# Create Best kNN Model\nkNN_model = kNN(n_neighbors=7).fit(X_train,y_train)\n\n# Predict on New Test Set\nkNN_preds = kNN_model.predict(test_X)\n\n# Calculate Scores\njaccard_score = jss(test_y, kNN_preds)\nf1_score = f1(test_y, kNN_preds, average=\"weighted\")\nprint(\"Jaccard Similarity Score: \", jaccard_score)\nprint(\"F1 Score: \", f1_score)"
        }, 
        {
            "source": "#### Decision Tree Classifier Model Test", 
            "cell_type": "markdown", 
            "metadata": {}
        }, 
        {
            "execution_count": 39, 
            "cell_type": "code", 
            "metadata": {}, 
            "outputs": [
                {
                    "output_type": "stream", 
                    "name": "stdout", 
                    "text": "Jaccard Similarity Score:  0.740740740741\nF1 Score:  0.630417651694\n"
                }, 
                {
                    "output_type": "stream", 
                    "name": "stderr", 
                    "text": "/opt/conda/envs/DSX-Python35/lib/python3.5/site-packages/sklearn/metrics/classification.py:1135: UndefinedMetricWarning: F-score is ill-defined and being set to 0.0 in labels with no predicted samples.\n  'precision', 'predicted', average, warn_for)\n"
                }
            ], 
            "source": "# Create Best dtc Model\ndtc_model = dtc(criterion=\"entropy\", max_depth=1).fit(X_train,y_train)\n\n# Predict on New Test Set\ndtc_preds = dtc_model.predict(test_X)\n\n# Calculate Scores\njaccard_score = jss(test_y, dtc_preds)\nf1_score = f1(test_y, dtc_preds, average=\"weighted\")\nprint(\"Jaccard Similarity Score: \", jaccard_score)\nprint(\"F1 Score: \", f1_score)"
        }, 
        {
            "source": "#### Support Vector Machine Model Test", 
            "cell_type": "markdown", 
            "metadata": {}
        }, 
        {
            "execution_count": 40, 
            "cell_type": "code", 
            "metadata": {}, 
            "outputs": [
                {
                    "output_type": "stream", 
                    "name": "stdout", 
                    "text": "Jaccard Similarity Score:  0.740740740741\nF1 Score:  0.630417651694\n"
                }, 
                {
                    "output_type": "stream", 
                    "name": "stderr", 
                    "text": "/opt/conda/envs/DSX-Python35/lib/python3.5/site-packages/sklearn/metrics/classification.py:1135: UndefinedMetricWarning: F-score is ill-defined and being set to 0.0 in labels with no predicted samples.\n  'precision', 'predicted', average, warn_for)\n"
                }
            ], 
            "source": "# Create Best svm Model\nsvm_model = svm.SVC(kernel=\"linear\").fit(X_train,y_train)\n\n# Predict on New Test Set\nsvm_preds = svm_model.predict(test_X)\n\n# Calculate Scores\njaccard_score = jss(test_y, svm_preds)\nf1_score = f1(test_y, svm_preds, average=\"weighted\")\nprint(\"Jaccard Similarity Score: \", jaccard_score)\nprint(\"F1 Score: \", f1_score)"
        }, 
        {
            "source": "#### Logistic Regression Model Test", 
            "cell_type": "markdown", 
            "metadata": {}
        }, 
        {
            "execution_count": 41, 
            "cell_type": "code", 
            "metadata": {}, 
            "outputs": [
                {
                    "output_type": "stream", 
                    "name": "stdout", 
                    "text": "Jaccard Similarity Score:  0.740740740741\nF1 Score:  0.630417651694\nLog Loss Score:  0.562722586388\n"
                }, 
                {
                    "output_type": "stream", 
                    "name": "stderr", 
                    "text": "/opt/conda/envs/DSX-Python35/lib/python3.5/site-packages/sklearn/metrics/classification.py:1135: UndefinedMetricWarning: F-score is ill-defined and being set to 0.0 in labels with no predicted samples.\n  'precision', 'predicted', average, warn_for)\n"
                }
            ], 
            "source": "# Create Best lr Model\nlr_model = LR(C=0.001,solver=\"newton-cg\").fit(X_train,y_train)\n\n# Predict on New Test Set\nlr_preds = lr_model.predict(test_X)\nlr_preds_probs = lr_model.predict_proba(test_X)\n\n# Calculate Scores\njaccard_score = jss(test_y, lr_preds)\nf1_score = f1(test_y, lr_preds, average=\"weighted\")\nlog_loss = ll(test_y, lr_preds_probs)\nprint(\"Jaccard Similarity Score: \", jaccard_score)\nprint(\"F1 Score: \", f1_score)\nprint(\"Log Loss Score: \", log_loss)"
        }, 
        {
            "source": "# Report\nYou should be able to report the accuracy of the built model using different evaluation metrics:", 
            "cell_type": "markdown", 
            "metadata": {}
        }, 
        {
            "source": "| Algorithm          | Jaccard | F1-score | LogLoss |\n|--------------------|---------|----------|---------|\n| KNN                | 0.68519 | 0.660225 | NA      |\n| Decision Tree      | 0.74074 | 0.630418 | NA      |\n| SVM                | 0.74074 | 0.630418 | NA      |\n| LogisticRegression | 0.74074 | 0.630418 | 0.56272 |", 
            "cell_type": "markdown", 
            "metadata": {}
        }, 
        {
            "source": "After training my best models and testing them with the test set, I found interesting results. It seems that the Decision Tree Classifier, the Support Vector Machine Classifier, and the Logistic Regression Classifier all performed with striking similarity, reaching essentially the exact same Jaccard and F1 Score. The k-Nearest Neighbors Classifier has a lower Jaccard score, but higher F1 score than the three of them. From these results, I'd include that picking one of the three similar models (Decision Tree, Support Vector Machine, Logistic Regression) would yield the best results. Personally, I would choose the Decision Tree Classifier because, in addition to its accurate results, it also provides an easy way of understanding the data and the model through the use of a dendrogram.\n\nThanks for reviewing my project!\n-Royden Lynch", 
            "cell_type": "markdown", 
            "metadata": {}
        }, 
        {
            "source": "<h2>Want to learn more?</h2>\n\nIBM SPSS Modeler is a comprehensive analytics platform that has many machine learning algorithms. It has been designed to bring predictive intelligence to decisions made by individuals, by groups, by systems \u2013 by your enterprise as a whole. A free trial is available through this course, available here: <a href=\"http://cocl.us/ML0101EN-SPSSModeler\">SPSS Modeler</a>\n\nAlso, you can use Watson Studio to run these notebooks faster with bigger datasets. Watson Studio is IBM's leading cloud solution for data scientists, built by data scientists. With Jupyter notebooks, RStudio, Apache Spark and popular libraries pre-packaged in the cloud, Watson Studio enables data scientists to collaborate on their projects without having to install anything. Join the fast-growing community of Watson Studio users today with a free account at <a href=\"https://cocl.us/ML0101EN_DSX\">Watson Studio</a>\n\n<h3>Thanks for completing this lesson!</h3>\n\n<h4>Author:  <a href=\"https://ca.linkedin.com/in/saeedaghabozorgi\">Saeed Aghabozorgi</a></h4>\n<p><a href=\"https://ca.linkedin.com/in/saeedaghabozorgi\">Saeed Aghabozorgi</a>, PhD is a Data Scientist in IBM with a track record of developing enterprise level applications that substantially increases clients\u2019 ability to turn data into actionable knowledge. He is a researcher in data mining field and expert in developing advanced analytic methods like machine learning and statistical modelling on large datasets.</p>\n\n<hr>\n\n<p>Copyright &copy; 2018 <a href=\"https://cocl.us/DX0108EN_CC\">Cognitive Class</a>. This notebook and its source code are released under the terms of the <a href=\"https://bigdatauniversity.com/mit-license/\">MIT License</a>.</p>", 
            "cell_type": "markdown", 
            "metadata": {
                "button": false, 
                "new_sheet": false, 
                "run_control": {
                    "read_only": false
                }
            }
        }
    ], 
    "metadata": {
        "kernelspec": {
            "display_name": "Python 3.5", 
            "name": "python3", 
            "language": "python"
        }, 
        "language_info": {
            "mimetype": "text/x-python", 
            "nbconvert_exporter": "python", 
            "version": "3.5.5", 
            "name": "python", 
            "file_extension": ".py", 
            "pygments_lexer": "ipython3", 
            "codemirror_mode": {
                "version": 3, 
                "name": "ipython"
            }
        }
    }, 
    "nbformat": 4
}